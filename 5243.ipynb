{
 "cells": [
  {
   "cell_type": "code",
   "execution_count": 73,
   "id": "582bef31-cc86-4961-a400-de918cd9aff5",
   "metadata": {},
   "outputs": [],
   "source": [
    "import pandas as pd\n",
    "import numpy as np\n",
    "import matplotlib.pyplot as plt\n",
    "from ucimlrepo import fetch_ucirepo \n",
    "from sklearn.preprocessing import LabelEncoder\n",
    "import statsmodels.api as sm\n",
    "from mlxtend.feature_selection import SequentialFeatureSelector as SFS\n",
    "from mlxtend.feature_selection import ExhaustiveFeatureSelector as EFS\n",
    "from statsmodels.api import OLS\n",
    "from sklearn.linear_model import ElasticNet\n",
    "from sklearn.linear_model import LinearRegression\n",
    "from sklearn.linear_model import Ridge\n",
    "from sklearn.linear_model import Lasso\n",
    "from sklearn.preprocessing import StandardScaler\n",
    "from sklearn.linear_model import LassoCV\n",
    "from sklearn.linear_model import ElasticNetCV\n",
    "from sklearn.linear_model import RidgeCV\n",
    "from sklearn.model_selection import train_test_split\n",
    "from sklearn.metrics import mean_squared_error, mean_absolute_error, r2_score"
   ]
  },
  {
   "cell_type": "code",
   "execution_count": 79,
   "id": "38b21de9-82da-43b6-8900-073cd27f1f4d",
   "metadata": {},
   "outputs": [],
   "source": [
    "communities_and_crime = fetch_ucirepo(id=183) \n",
    "\n",
    "X = communities_and_crime.data.features \n",
    "Y = communities_and_crime.data.targets "
   ]
  },
  {
   "cell_type": "code",
   "execution_count": 80,
   "id": "e7b84f2c-fe98-45d0-9aad-43b3b051ba93",
   "metadata": {},
   "outputs": [],
   "source": [
    "#处理数据。这些地区数据对回归来说很难利用。不过分类可以自己决定。\n",
    "X = X.drop(columns=[\"state\", \"county\", \"community\", \"communityname\", \"fold\"])\n",
    "X = X.replace('?',np.nan)\n",
    "\n",
    "label_encoder = LabelEncoder()\n",
    "categorical_columns = X.select_dtypes(include=['object']).columns\n",
    "for i in categorical_columns:\n",
    "    X[i] = label_encoder.fit_transform(X[i])"
   ]
  },
  {
   "cell_type": "code",
   "execution_count": 112,
   "id": "72addf77-108c-465b-8564-43043a4fbf7a",
   "metadata": {},
   "outputs": [],
   "source": [
    "#数据归一\n",
    "#y不能中心化，不然prop变成负的就离谱了\n",
    "scaler = StandardScaler(with_mean=True, with_std=True)\n",
    "X_standardized = pd.DataFrame(scaler.fit_transform(X), columns=X.columns)\n",
    "\n",
    "colnames =X.columns\n",
    "\n",
    "X_train, X_test, Y_train, Y_test = train_test_split(\n",
    "    X_standardized, \n",
    "    Y, \n",
    "    test_size=0.2,      \n",
    "    shuffle=True       \n",
    ")"
   ]
  },
  {
   "cell_type": "code",
   "execution_count": null,
   "id": "517918e9-b5f1-4eee-a0c0-008d55a4f1ef",
   "metadata": {},
   "outputs": [],
   "source": [
    "#以下是features筛选"
   ]
  },
  {
   "cell_type": "code",
   "execution_count": 94,
   "id": "ce4875d3-38bd-45de-a4b9-d926ea58be88",
   "metadata": {
    "scrolled": true
   },
   "outputs": [
    {
     "name": "stdout",
     "output_type": "stream",
     "text": [
      "Index(['MedOwnCostPctIncNoMtg', 'LemasSwFTFieldPerPop'], dtype='object')\n"
     ]
    }
   ],
   "source": [
    "# OLS, 筛选标准是对x变量做t test，P-value小于0.05的视为sigificant\n",
    "model_OLS = OLS(Y_train,X_train).fit()\n",
    "model_OLS.summary()\n",
    "OLS_features = X.columns[model_OLS.pvalues < 0.05]\n",
    "print(OLS_features)"
   ]
  },
  {
   "cell_type": "code",
   "execution_count": 95,
   "id": "4e6f017a-44af-4d1a-8858-8e3939dc554f",
   "metadata": {},
   "outputs": [
    {
     "name": "stdout",
     "output_type": "stream",
     "text": [
      "Selected features: ['racepctblack', 'racePctWhite', 'racePctHisp', 'agePct12t29', 'agePct16t24', 'numbUrban', 'pctUrban', 'pctWWage', 'pctWFarmSelf', 'pctWInvInc', 'pctWSocSec', 'pctWRetire', 'perCapInc', 'whitePerCap', 'blackPerCap', 'OtherPerCap', 'HispPerCap', 'PctPopUnderPov', 'PctLess9thGrade', 'PctBSorMore', 'PctEmploy', 'MalePctDivorce', 'MalePctNevMarr', 'TotalPctDiv', 'PctKids2Par', 'PctWorkMom', 'PctIlleg', 'NumImmig', 'PctSpeakEnglOnly', 'PctNotSpeakEnglWell', 'PctLargHouseFam', 'PersPerOccupHous', 'PersPerRentOccHous', 'PctPersOwnOccup', 'PctPersDenseHous', 'PctHousLess3BR', 'HousVacant', 'PctHousOccup', 'PctHousOwnOcc', 'PctVacantBoarded', 'PctVacMore6Mos', 'OwnOccLowQuart', 'RentLowQ', 'MedRent', 'MedRentPctHousInc', 'MedOwnCostPctInc', 'MedOwnCostPctIncNoMtg', 'NumInShelters', 'NumStreet', 'PctForeignBorn', 'PctSameCity85', 'LemasTotalReq', 'PolicReqPerOffic', 'RacialMatchCommPol', 'LandArea', 'PctUsePubTrans']\n"
     ]
    }
   ],
   "source": [
    "#stepwise,forward. 筛选标准是aic\n",
    "def calculate_aic(estimator, X, y):\n",
    "    n, k = X.shape  \n",
    "    y_pred = estimator.predict(X)\n",
    "    residual_sum_of_squares = ((y - y_pred) ** 2).sum(axis=0).item()\n",
    "    aic = n * np.log(residual_sum_of_squares / n) + 2 * k\n",
    "    return -aic \n",
    "\n",
    "def aic_scorer_wrapper(estimator, X, y):\n",
    "    estimator.fit(X, y)\n",
    "    return calculate_aic(estimator, X, y)\n",
    "    \n",
    "ln = LinearRegression()\n",
    "\n",
    "sfs_forward = SFS(\n",
    "    ln,\n",
    "    k_features='best',\n",
    "    forward=True,\n",
    "    floating=False,\n",
    "    scoring=aic_scorer_wrapper,  \n",
    "    cv=None\n",
    ")\n",
    "\n",
    "sfs_forward.fit(X_train,Y_train)\n",
    "\n",
    "print(\"Selected features:\", list(sfs_forward.k_feature_names_))"
   ]
  },
  {
   "cell_type": "code",
   "execution_count": 96,
   "id": "9b0350c2-d769-4fec-b7d5-e5763e1486c2",
   "metadata": {},
   "outputs": [
    {
     "name": "stdout",
     "output_type": "stream",
     "text": [
      "Selected features: ['racepctblack', 'racePctHisp', 'agePct12t29', 'pctUrban', 'medIncome', 'pctWWage', 'pctWFarmSelf', 'pctWInvInc', 'pctWSocSec', 'pctWRetire', 'medFamInc', 'whitePerCap', 'OtherPerCap', 'HispPerCap', 'PctPopUnderPov', 'PctLess9thGrade', 'PctEmploy', 'PctEmplManu', 'PctOccupManu', 'PctOccupMgmtProf', 'MalePctDivorce', 'MalePctNevMarr', 'TotalPctDiv', 'PctKids2Par', 'PctWorkMom', 'PctIlleg', 'NumImmig', 'PctRecImmig5', 'PctRecImmig8', 'PctNotSpeakEnglWell', 'PctLargHouseFam', 'PersPerOccupHous', 'PersPerRentOccHous', 'PctPersOwnOccup', 'PctPersDenseHous', 'PctHousLess3BR', 'HousVacant', 'PctHousOccup', 'PctHousOwnOcc', 'PctVacantBoarded', 'PctVacMore6Mos', 'RentLowQ', 'MedRent', 'MedOwnCostPctInc', 'MedOwnCostPctIncNoMtg', 'NumInShelters', 'NumStreet', 'LemasSwornFT', 'PolicReqPerOffic', 'PolicPerPop', 'PctUsePubTrans', 'PolicOperBudg', 'PolicBudgPerPop']\n"
     ]
    }
   ],
   "source": [
    "##stepwise,backward. 筛选标准是aic\n",
    "sfs_backward = SFS(\n",
    "    ln,\n",
    "    k_features='best',\n",
    "    forward=False,\n",
    "    floating=False,\n",
    "    scoring=aic_scorer_wrapper,  \n",
    "    cv=None\n",
    ")\n",
    "\n",
    "sfs_backward.fit(X_train, Y_train)\n",
    "\n",
    "print(\"Selected features:\", list(sfs_backward.k_feature_names_))"
   ]
  },
  {
   "cell_type": "code",
   "execution_count": 97,
   "id": "150ddc64-67d8-44fd-b1ff-f0a52fc29c42",
   "metadata": {},
   "outputs": [
    {
     "name": "stdout",
     "output_type": "stream",
     "text": [
      "Index(['racepctblack', 'racePctWhite', 'agePct12t29', 'pctUrban',\n",
      "       'MalePctDivorce', 'PctKids2Par', 'PctWorkMom', 'PctIlleg',\n",
      "       'PctPersDenseHous', 'HousVacant', 'PctHousOccup', 'PctVacantBoarded',\n",
      "       'MedRentPctHousInc', 'NumStreet', 'RacialMatchCommPol',\n",
      "       'LemasPctOfficDrugUn'],\n",
      "      dtype='object')\n",
      "[np.float64(0.0016291585413652698), np.float64(-0.040681950106201355), np.float64(-0.0020394791106577844), np.float64(0.004801525385120443), np.float64(0.022366003591872106), np.float64(-0.057968805968693686), np.float64(-0.005589790194785526), np.float64(0.054688631654512085), np.float64(0.013453076278125553), np.float64(0.015194755555537473), np.float64(-0.008112260297751906), np.float64(0.0015255959160118413), np.float64(0.0015417198555340362), np.float64(0.009446311966487738), np.float64(-0.006510153691352198), np.float64(0.00030091085367959803)]\n"
     ]
    }
   ],
   "source": [
    "#用 LASSO + CV 进行特征选择时，筛选标准是保留 L1 后系数非零的特征。\n",
    "#L1 惩罚的稀疏性特性，让他在correlated group中倾向于只保留一个特征（偶尔不止一个）。\n",
    "#不过保留哪个系数不稳定。并且它的筛选标准也不是基于特征的重要性。严格意义上不算筛选数据的手段，不过考虑到数据中存在correlate的数据。使用lasso是合理的\n",
    "#CV是用来选择lamba的，避免惩罚太严重\n",
    "y_train = Y_train.values.ravel()\n",
    "lasso_cv = LassoCV(fit_intercept=False,max_iter=5000)\n",
    "lasso_cv.fit(X_train, y_train)\n",
    "\n",
    "index_lasso_cv = 0\n",
    "features_cv = list()\n",
    "features_value_cv = list()\n",
    "for i in lasso_cv.coef_:\n",
    "    if i != 0:\n",
    "        features_cv.append(index_lasso_cv)\n",
    "        features_value_cv.append(i)\n",
    "    index_lasso_cv = index_lasso_cv +1\n",
    "print(colnames[features_cv])\n",
    "print(features_value_cv)"
   ]
  },
  {
   "cell_type": "code",
   "execution_count": 100,
   "id": "947aba91-6b50-48c4-bd78-79dfc845e37e",
   "metadata": {},
   "outputs": [
    {
     "name": "stdout",
     "output_type": "stream",
     "text": [
      "Index(['racepctblack', 'racePctWhite', 'agePct12t29', 'pctUrban',\n",
      "       'MalePctDivorce', 'PctKids2Par', 'PctWorkMom', 'PctIlleg',\n",
      "       'PctPersDenseHous', 'HousVacant', 'PctHousOccup', 'PctVacantBoarded',\n",
      "       'MedRentPctHousInc', 'NumStreet', 'RacialMatchCommPol',\n",
      "       'LemasPctOfficDrugUn'],\n",
      "      dtype='object')\n",
      "[np.float64(0.005281055100051366), np.float64(-0.03788312247566186), np.float64(-0.0017333329203767858), np.float64(0.0046983198351290695), np.float64(0.023019044464071596), np.float64(-0.05619325883430374), np.float64(-0.005690529115644623), np.float64(0.05343978510662408), np.float64(0.015195272098312269), np.float64(0.015152984095709672), np.float64(-0.007968928526211281), np.float64(0.0019456991296511333), np.float64(0.0020050143019430533), np.float64(0.00945404917261665), np.float64(-0.006477491745054532), np.float64(0.0005245348591919556)]\n"
     ]
    }
   ],
   "source": [
    "#ElasticNet+CV，筛选标准是保留 L1 + L2后系数非零的特征。\n",
    "#和LASSO相比的优点可以在一定程度上避免被L1删除掉可能重要的特征\n",
    "elasticNet_cv = ElasticNetCV(fit_intercept=False,max_iter=5000)\n",
    "elasticNet_cv.fit(X_train, y_train)\n",
    "\n",
    "index_elasticNet_cv = 0\n",
    "features_cv_ela = list()\n",
    "features_value_cv_ela = list()\n",
    "\n",
    "for i in elasticNet_cv.coef_:\n",
    "    if i != 0:\n",
    "        features_cv_ela.append(index_elasticNet_cv)\n",
    "        features_value_cv_ela.append(i)\n",
    "    index_elasticNet_cv += 1  \n",
    "    \n",
    "print(X_train.columns[features_cv_ela])\n",
    "print(features_value_cv_ela)"
   ]
  },
  {
   "cell_type": "code",
   "execution_count": null,
   "id": "1ddb3730-f738-4f1b-adbc-72163913cb29",
   "metadata": {},
   "outputs": [],
   "source": [
    "#选择哪一个方法找出来的数据？\n",
    "#稳定性验证 + 内部交叉验证\n",
    "#进行internal split。把train set分成两组。第一组选择特征，第二组验证MSE。运行10次，查看MSE分布。（）\n",
    "#解释一下我为什么linear regression我用了两个方法。因为我sm的OLS用习惯了，然后意识到OLS好像默认不给incertercept，想起来后换成了sklearn的"
   ]
  },
  {
   "cell_type": "code",
   "execution_count": 104,
   "id": "3445eb6f-2210-4b1b-b5f5-d83f7586d9de",
   "metadata": {},
   "outputs": [],
   "source": [
    "#全部封装进函数。我自己都记不清，我给变量取了那些名字了。\n",
    "def feature_choose(n_repeats, X, Y):\n",
    "    mse_results = {\"Least Squares\": [], \"Lasso\": [], \"Elastic Net\": [], \"Forward Stepwise\": [], \"Backward Stepwise\": []}\n",
    "    y = np.ravel(Y)\n",
    "    ln = LinearRegression()\n",
    "    \n",
    "    for _ in range(n_repeats):\n",
    "        X_train, X_test, y_train, y_test = train_test_split(X, y, test_size=0.3, random_state=None)\n",
    "        \n",
    "        X_train_const = sm.add_constant(X_train)\n",
    "        model_OLS = sm.OLS(y_train, X_train_const).fit()\n",
    "        selected = model_OLS.pvalues[model_OLS.pvalues < 0.05].index\n",
    "        selected = selected.drop('const', errors='ignore') \n",
    "        \n",
    "        X_train_OLS = X_train[selected]\n",
    "        X_test_OLS = X_test[selected]\n",
    "        \n",
    "        ln.fit(X_train_OLS, y_train)\n",
    "        y_pred_OLS = ln.predict(X_test_OLS)\n",
    "        mse_results[\"Least Squares\"].append(mean_squared_error(y_test, y_pred_OLS))\n",
    "        \n",
    "        # Forward Stepwise\n",
    "        sfs_forward = SFS(ln, \n",
    "                          k_features='best',\n",
    "                          forward=True,\n",
    "                          floating=False,\n",
    "                          scoring=aic_scorer_wrapper, \n",
    "                          cv=None)\n",
    "        sfs_forward.fit(X_train, y_train)\n",
    "        forward_features = list(sfs_forward.k_feature_names_)\n",
    "        \n",
    "        X_train_forward = X_train[forward_features]\n",
    "        X_test_forward = X_test[forward_features]\n",
    "        \n",
    "        ln.fit(X_train_forward, y_train)\n",
    "        y_pred_forward = ln.predict(X_test_forward)\n",
    "        mse_results[\"Forward Stepwise\"].append(mean_squared_error(y_test, y_pred_forward))\n",
    "        \n",
    "        # Backward Stepwise\n",
    "        sfs_backward = SFS(ln,\n",
    "                           k_features='best',\n",
    "                           forward=False,\n",
    "                           floating=False,\n",
    "                           scoring=aic_scorer_wrapper,\n",
    "                           cv=None)\n",
    "        sfs_backward.fit(X_train, y_train)\n",
    "        backward_features = list(sfs_backward.k_feature_names_)\n",
    "        \n",
    "        X_train_backward = X_train[backward_features]\n",
    "        X_test_backward = X_test[backward_features]\n",
    "        \n",
    "        ln.fit(X_train_backward, y_train)\n",
    "        y_pred_backward = ln.predict(X_test_backward)\n",
    "        mse_results[\"Backward Stepwise\"].append(mean_squared_error(y_test, y_pred_backward))\n",
    "        \n",
    "        # Lasso\n",
    "        lasso = LassoCV(alphas=np.logspace(-3, 3, 10), cv=5, max_iter=5000)\n",
    "        lasso.fit(X_train, y_train)\n",
    "        mse_results[\"Lasso\"].append(mean_squared_error(y_test, lasso.predict(X_test)))\n",
    "        \n",
    "        # Elastic Net\n",
    "        elastic_net = ElasticNetCV(alphas=np.logspace(-3, 3, 10), l1_ratio=np.linspace(0.1, 0.9, 5), cv=5, max_iter=5000)\n",
    "        elastic_net.fit(X_train, y_train)\n",
    "        mse_results[\"Elastic Net\"].append(mean_squared_error(y_test, elastic_net.predict(X_test)))\n",
    "    \n",
    "    return mse_results"
   ]
  },
  {
   "cell_type": "code",
   "execution_count": 105,
   "id": "8cbfbcc7-656b-4dff-8162-800a365a47e5",
   "metadata": {},
   "outputs": [
    {
     "data": {
      "image/png": "[encoded data removed]",
      "text/plain": [
       "<Figure size 1000x500 with 1 Axes>"
      ]
     },
     "metadata": {},
     "output_type": "display_data"
    }
   ],
   "source": [
    "mse_results = feature_choose(n_repeats=10, X=X_train, Y=Y_train)\n",
    "\n",
    "plt.figure(figsize=(10, 5))\n",
    "plt.boxplot(mse_results.values(),tick_labels=mse_results.keys())\n",
    "plt.ylabel(\"Mean Squared Error\")\n",
    "plt.title(\"Comparison of Feature Selection Methods\")\n",
    "plt.show()"
   ]
  },
  {
   "cell_type": "code",
   "execution_count": 118,
   "id": "ec496821-1508-4f55-b7d7-4238231df99f",
   "metadata": {
    "scrolled": true
   },
   "outputs": [],
   "source": [
    "#从图片可以看出elasticNet选择的数据最好，那么之后会用它选择的数据来建模\n",
    "selected_columns = X_train.columns[features_cv_ela]  \n",
    "X_selected = X_train[selected_columns]  \n",
    "X_test = X_test[selected_columns]  "
   ]
  },
  {
   "cell_type": "code",
   "execution_count": 132,
   "id": "7ddaa4b7-7d44-4fbe-aa58-f474c5e1be33",
   "metadata": {},
   "outputs": [],
   "source": [
    "#写一个自动衡量模型参数的def\n",
    "def model_score(X, y_true, y_pred):\n",
    "    mse = mean_squared_error(y_true, y_pred)\n",
    "    rmse = np.sqrt(mse)\n",
    "    mae = mean_absolute_error(y_true, y_pred)\n",
    "    r2 = r2_score(y_true, y_pred)\n",
    "    \n",
    "    n = X.shape[0]\n",
    "    p = X.shape[1]\n",
    "    r2_adj = 1 - (1 - r2) * (n - 1) / (n - p - 1)\n",
    "\n",
    "        \n",
    "    \n",
    "    return {\n",
    "        \"MSE\": mse,\n",
    "        \"RMSE\": rmse,\n",
    "        \"MAE\": mae,\n",
    "        \"R2\": r2,\n",
    "        \"Adjusted R2\": r2_adj\n",
    "    }"
   ]
  },
  {
   "cell_type": "code",
   "execution_count": 133,
   "id": "7eb0e950-b0f3-4e2a-916b-ae56d407bb9e",
   "metadata": {},
   "outputs": [
    {
     "data": {
      "text/plain": [
       "{'MSE': 0.04581051600920617,\n",
       " 'RMSE': np.float64(0.21403391322219517),\n",
       " 'MAE': 0.1696477388660933,\n",
       " 'R2': -0.021910507400626278,\n",
       " 'Adjusted R2': -0.032272084155005265}"
      ]
     },
     "execution_count": 133,
     "metadata": {},
     "output_type": "execute_result"
    }
   ],
   "source": [
    "#Lasso\n",
    "lasso = LassoCV(alphas=np.logspace(-3, 3, 10), cv=5, max_iter=5000)\n",
    "lasso.fit(X_selected, y_train)\n",
    "model_score(X_selected,Y_test,lasso.predict(X_test))"
   ]
  },
  {
   "cell_type": "code",
   "execution_count": 128,
   "id": "7674ae53-b1e3-4c28-8431-cdcbada697b1",
   "metadata": {},
   "outputs": [
    {
     "data": {
      "text/plain": [
       "{'MSE': 0.04505618521855756,\n",
       " 'RMSE': np.float64(0.21226442287523728),\n",
       " 'MAE': 0.1678228903137054}"
      ]
     },
     "execution_count": 128,
     "metadata": {},
     "output_type": "execute_result"
    }
   ],
   "source": [
    "#Ridge\n",
    "ridge = RidgeCV(alphas=np.logspace(-3, 3, 10), cv=5)\n",
    "ridge.fit(X_selected, y_train)\n",
    "model_score(X_selected,Y_test,ridge.predict(X_test))"
   ]
  },
  {
   "cell_type": "code",
   "execution_count": 135,
   "id": "3babba16-ed21-415a-bdf6-bee998e17043",
   "metadata": {},
   "outputs": [
    {
     "data": {
      "text/plain": [
       "{'MSE': 0.046226645810713264,\n",
       " 'RMSE': np.float64(0.21500382743270702),\n",
       " 'MAE': 0.17037196698909612,\n",
       " 'R2': -0.031193254107019674,\n",
       " 'Adjusted R2': -0.041648952501007086}"
      ]
     },
     "execution_count": 135,
     "metadata": {},
     "output_type": "execute_result"
    }
   ],
   "source": [
    "#ElasticNet\n",
    "elastic_net = ElasticNetCV(alphas=np.logspace(-3, 3, 10), l1_ratio=np.linspace(0.1, 0.9, 5), cv=5, max_iter=5000)\n",
    "elastic_net.fit(X_selected, y_train)\n",
    "model_score(X_selected,Y_test,elastic_net.predict(X_test))"
   ]
  },
  {
   "cell_type": "code",
   "execution_count": null,
   "id": "c45e572b-c75a-47d6-b953-23664d13d2b0",
   "metadata": {},
   "outputs": [],
   "source": []
  },
  {
   "cell_type": "code",
   "execution_count": null,
   "id": "f9a8e1fa-8bbe-493e-ab23-2167cae5642a",
   "metadata": {},
   "outputs": [],
   "source": []
  }
 ],
 "metadata": {
  "kernelspec": {
   "display_name": "Python 3",
   "language": "python",
   "name": "python3"
  },
  "language_info": {
   "codemirror_mode": {
    "name": "ipython",
    "version": 3
   },
   "file_extension": ".py",
   "mimetype": "text/x-python",
   "name": "python",
   "nbconvert_exporter": "python",
   "pygments_lexer": "ipython3",
   "version": "3.11.3"
  }
 },
 "nbformat": 4,
 "nbformat_minor": 5
}
